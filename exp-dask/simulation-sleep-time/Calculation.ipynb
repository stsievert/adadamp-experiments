{
 "cells": [
  {
   "cell_type": "code",
   "execution_count": 1,
   "metadata": {},
   "outputs": [
    {
     "data": {
      "text/plain": [
       "epoch                            9\n",
       "score                       0.8134\n",
       "device                      cuda:0\n",
       "grads_per_worker               128\n",
       "max_epochs                     200\n",
       "batch_size                     128\n",
       "max_batch_size                1024\n",
       "min_workers                      1\n",
       "max_workers                      8\n",
       "module__depth                   16\n",
       "module__widen_factor             4\n",
       "module__dropout_rate           0.3\n",
       "module__num_classes             10\n",
       "optimizer__lr                  0.1\n",
       "optimizer__momentum            0.9\n",
       "optimizer__nesterov           True\n",
       "optimizer__weight_decay     0.0005\n",
       "n_updates                     3910\n",
       "n_data                      500480\n",
       "score__calls                    10\n",
       "partial_fit__calls              10\n",
       "n_workers                        1\n",
       "partial_fit__time          58.2712\n",
       "partial_fit__batch_size        128\n",
       "partial_fit__lr               0.05\n",
       "score__acc                  0.8134\n",
       "score__loss                0.55065\n",
       "score__time                5.11224\n",
       "Name: 9, dtype: object"
      ]
     },
     "execution_count": 1,
     "metadata": {},
     "output_type": "execute_result"
    }
   ],
   "source": [
    "import pandas as pd\n",
    "df = pd.read_csv(\"exp0.csv\")\n",
    "df = df.drop(columns=[\"module\", \"loss\", \"optimizer\", \"metrics\", \"cluster\", \"random_state\", \"client\"])\n",
    "df.iloc[-1]"
   ]
  },
  {
   "cell_type": "code",
   "execution_count": 2,
   "metadata": {},
   "outputs": [
    {
     "data": {
      "text/plain": [
       "0.14788149823922941"
      ]
     },
     "execution_count": 2,
     "metadata": {},
     "output_type": "execute_result"
    }
   ],
   "source": [
    "pf_time = df.partial_fit__time.sum()\n",
    "n_updates = df.iloc[-1][\"n_updates\"]\n",
    "\n",
    "avg_time = pf_time / n_updates\n",
    "avg_time"
   ]
  },
  {
   "cell_type": "code",
   "execution_count": 5,
   "metadata": {},
   "outputs": [
    {
     "data": {
      "text/plain": [
       "(0.011, 0.1368814982392294)"
      ]
     },
     "execution_count": 5,
     "metadata": {},
     "output_type": "execute_result"
    }
   ],
   "source": [
    "# from exp0.html, profling tab\n",
    "update_time = 11e-3  # 10ms; inspected the task stream to see each the time of call\n",
    "avg_grad_time = avg_time - update_time\n",
    "\n",
    "update_time, avg_grad_time"
   ]
  },
  {
   "cell_type": "code",
   "execution_count": 7,
   "metadata": {},
   "outputs": [
    {
     "data": {
      "text/plain": [
       "(58.55725045418858, 78.32424778504082)"
      ]
     },
     "execution_count": 7,
     "metadata": {},
     "output_type": "execute_result"
    }
   ],
   "source": [
    "total = 82.82\n",
    "deepcopy_time = 35.43\n",
    "grad_time = total - deepcopy_time\n",
    "\n",
    "p_deepcopy = deepcopy_time / total\n",
    "p_grad = grad_time / total\n",
    "\n",
    "DEEPCOPY_TIME = avg_grad_time * p_deepcopy\n",
    "GRAD_TIME_128 = avg_grad_time * p_grad\n",
    "DEEPCOPY_TIME * 1000, GRAD_TIME_128 * 1000"
   ]
  },
  {
   "cell_type": "code",
   "execution_count": null,
   "metadata": {},
   "outputs": [],
   "source": []
  }
 ],
 "metadata": {
  "kernelspec": {
   "display_name": "Python 3",
   "language": "python",
   "name": "python3"
  },
  "language_info": {
   "codemirror_mode": {
    "name": "ipython",
    "version": 3
   },
   "file_extension": ".py",
   "mimetype": "text/x-python",
   "name": "python",
   "nbconvert_exporter": "python",
   "pygments_lexer": "ipython3",
   "version": "3.7.4"
  }
 },
 "nbformat": 4,
 "nbformat_minor": 4
}
