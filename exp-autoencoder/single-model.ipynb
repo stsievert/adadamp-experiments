{
 "cells": [
  {
   "cell_type": "code",
   "execution_count": 1,
   "id": "36392339-5187-417e-851a-018b9b3345cd",
   "metadata": {},
   "outputs": [],
   "source": [
    "%load_ext autoreload\n",
    "%autoreload 2"
   ]
  },
  {
   "cell_type": "code",
   "execution_count": 2,
   "id": "ddb4ab61-5d1e-418c-b002-5853c2439927",
   "metadata": {},
   "outputs": [],
   "source": [
    "from pathlib import Path\n",
    "import sys\n",
    "DIR = Path(\".\").absolute()\n",
    "sys.path.append(str(DIR.parent))\n"
   ]
  },
  {
   "cell_type": "code",
   "execution_count": 3,
   "id": "d9fb92cf-7e1b-4fe5-beab-99620172739d",
   "metadata": {},
   "outputs": [],
   "source": [
    "import train"
   ]
  },
  {
   "cell_type": "code",
   "execution_count": 4,
   "id": "5a5b5b2f-be8b-4e46-bdd1-ed6a4d49cdf3",
   "metadata": {},
   "outputs": [],
   "source": [
    "import adadamp"
   ]
  },
  {
   "cell_type": "code",
   "execution_count": null,
   "id": "9b1278eb-f69a-411f-83fa-e975487d4a2f",
   "metadata": {},
   "outputs": [
    {
     "name": "stdout",
     "output_type": "stream",
     "text": [
      "286\n",
      "{'approx_loss': False,\n",
      " 'approx_rate': False,\n",
      " 'batch_growth_rate': 0.01,\n",
      " 'damper': 'adagrad',\n",
      " 'dampingdelay': 5,\n",
      " 'dampingfactor': 5.0,\n",
      " 'dataset': 'autoencoder',\n",
      " 'dwell': 1,\n",
      " 'epochs': 2,\n",
      " 'init_seed': 42,\n",
      " 'initial_batch_size': 64,\n",
      " 'lr': 1.0,\n",
      " 'max_batch_size': None,\n",
      " 'momentum': 0,\n",
      " 'nesterov': False,\n",
      " 'no_cuda': True,\n",
      " 'random_state': 42,\n",
      " 'rho': 0.9,\n",
      " 'test_freq': 1,\n",
      " 'verbose': False,\n",
      " 'weight_decay': 0}\n",
      "302\n",
      "Using downloaded and verified file: _traindata/svhn/train_32x32.mat\n",
      "Using downloaded and verified file: _traindata/svhn/extra_32x32.mat\n",
      "350\n",
      "{'len_test_x': 14652,\n",
      " 'len_test_y': 14652,\n",
      " 'len_train_x': 58605,\n",
      " 'len_train_y': 58605,\n",
      " 'test_x_sum': 47160246.10449219,\n",
      " 'test_y_sum': 47160246.10406494,\n",
      " 'train_x_sum': 188957946.4673767,\n",
      " 'train_y_sum': 188957946.45898438,\n",
      " 'tuning': 1}\n"
     ]
    }
   ],
   "source": [
    "data_test, data_train, [model, train_set] = train.main(\n",
    "    dataset=\"autoencoder\",\n",
    "    cuda=False,\n",
    "    random_state=42,\n",
    "    init_seed=42,\n",
    "    damper=\"adagrad\",\n",
    "    epochs=2,\n",
    "    verbose=True,\n",
    ")"
   ]
  },
  {
   "cell_type": "code",
   "execution_count": null,
   "id": "accf3d2b-5b9a-421c-ab38-6aa94fd76971",
   "metadata": {},
   "outputs": [],
   "source": [
    "import sys\n",
    "sys.version"
   ]
  },
  {
   "cell_type": "code",
   "execution_count": null,
   "id": "ae2078e3-27dd-49f9-8909-f1a2cec41a4b",
   "metadata": {},
   "outputs": [],
   "source": []
  },
  {
   "cell_type": "code",
   "execution_count": null,
   "id": "f71973f3-b8ad-47a3-9fde-f1a51e802db5",
   "metadata": {},
   "outputs": [],
   "source": []
  },
  {
   "cell_type": "code",
   "execution_count": null,
   "id": "1ff64e67-cc33-4927-844b-b3c46ba54262",
   "metadata": {},
   "outputs": [],
   "source": []
  },
  {
   "cell_type": "code",
   "execution_count": null,
   "id": "789ed0b6-4532-48fc-9b66-f618b2338a51",
   "metadata": {},
   "outputs": [],
   "source": []
  },
  {
   "cell_type": "code",
   "execution_count": null,
   "id": "48c27406-1cb3-4dcb-a98e-3784bc5fc033",
   "metadata": {},
   "outputs": [],
   "source": []
  },
  {
   "cell_type": "code",
   "execution_count": null,
   "id": "18e673c4-7378-49fe-86c5-58e905137462",
   "metadata": {},
   "outputs": [],
   "source": []
  },
  {
   "cell_type": "code",
   "execution_count": null,
   "id": "c3098c6d-9ad8-409a-b489-4565f6981993",
   "metadata": {},
   "outputs": [],
   "source": []
  },
  {
   "cell_type": "code",
   "execution_count": null,
   "id": "d1c412c2-5f78-4170-bb54-6e2ebccb0efe",
   "metadata": {},
   "outputs": [],
   "source": []
  },
  {
   "cell_type": "code",
   "execution_count": null,
   "id": "0683396b-c038-430d-8783-da5fb3aa05e2",
   "metadata": {},
   "outputs": [],
   "source": []
  },
  {
   "cell_type": "code",
   "execution_count": null,
   "id": "0645425a-63c5-4dcf-a779-5e06467f3b7f",
   "metadata": {},
   "outputs": [],
   "source": []
  },
  {
   "cell_type": "code",
   "execution_count": null,
   "id": "8b06de83-71ed-4542-b789-bba647a75dcb",
   "metadata": {},
   "outputs": [],
   "source": []
  }
 ],
 "metadata": {
  "kernelspec": {
   "display_name": "Python [conda env:adadamp]",
   "language": "python",
   "name": "conda-env-adadamp-py"
  },
  "language_info": {
   "codemirror_mode": {
    "name": "ipython",
    "version": 3
   },
   "file_extension": ".py",
   "mimetype": "text/x-python",
   "name": "python",
   "nbconvert_exporter": "python",
   "pygments_lexer": "ipython3",
   "version": "3.11.9"
  }
 },
 "nbformat": 4,
 "nbformat_minor": 5
}
